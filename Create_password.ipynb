{
 "cells": [
  {
   "cell_type": "markdown",
   "metadata": {},
   "source": [
    "## 设密码觉得头痛吗？来，三句话搞定一切！"
   ]
  },
  {
   "cell_type": "markdown",
   "metadata": {},
   "source": [
    "每个网站，或者App，都要设一个密码。真是麻烦！"
   ]
  },
  {
   "cell_type": "markdown",
   "metadata": {},
   "source": [
    "千万不能图省事，都设成一样啊。这不，这几天加拿大税务局（CRA）又爆出撞库攻击事件，有人冒充其他人领取疫情补贴，搞得网站都关门了。"
   ]
  },
  {
   "cell_type": "markdown",
   "metadata": {},
   "source": [
    "![屏幕快照 2020-08-18 下午7.22.39](/Users/henryjiang/PyPapers/屏幕快照 2020-08-18 下午7.22.39.png)"
   ]
  },
  {
   "cell_type": "markdown",
   "metadata": {},
   "source": [
    "所谓“撞库攻击”，就是说黑客在别的网站拿到你的用户名/密码，然后到一些有利可图的网站来试试运气。如果你用的是一样的用户名/密码，可不就被“撞”开了吗？"
   ]
  },
  {
   "cell_type": "markdown",
   "metadata": {},
   "source": [
    "不要问我黑客怎么拿到你在其它网站的密码的。且不说一些小网站本身安全性就很弱很容易被攻破，甚至一些没公德的小网站把你的信息卖给黑客的都有。"
   ]
  },
  {
   "cell_type": "markdown",
   "metadata": {},
   "source": [
    "所以，要设不同的密码！要设不同的密码！要设不同的密码！"
   ]
  },
  {
   "cell_type": "markdown",
   "metadata": {},
   "source": [
    "重要的事情说三遍。"
   ]
  },
  {
   "cell_type": "markdown",
   "metadata": {},
   "source": [
    "那么问题来了，每个人要上的网站/App不下一百个，每个都不一样，怎么设啊，设好了又怎么记得住啊？"
   ]
  },
  {
   "cell_type": "markdown",
   "metadata": {},
   "source": [
    "真是头疼啊。每到一个新网站注册账号，都瑟瑟发抖！"
   ]
  },
  {
   "cell_type": "markdown",
   "metadata": {},
   "source": [
    "好在现在有很多网站可以通过谷歌、脸书，或是微信、支付宝账号登录了，解决了不少问题。但还是有好多地方要单独注册账号的啊。"
   ]
  },
  {
   "cell_type": "markdown",
   "metadata": {},
   "source": [
    "![屏幕快照 2020-08-18 下午7.41.24](/Users/henryjiang/PyPapers/屏幕快照 2020-08-18 下午7.41.24.png)"
   ]
  },
  {
   "cell_type": "markdown",
   "metadata": {},
   "source": [
    "肿么办？"
   ]
  },
  {
   "cell_type": "markdown",
   "metadata": {},
   "source": [
    "有一些密码自动生成和管理的工具很不错，比如1password。MacOS上系统还自带免费的密码生成和管理工具，也很不错。"
   ]
  },
  {
   "cell_type": "markdown",
   "metadata": {},
   "source": [
    "但你担不担心，万一这个工具出问题了，所有密码都丢失了怎么办？！所以，我反而只把他们用在不重要的网站上。"
   ]
  },
  {
   "cell_type": "markdown",
   "metadata": {},
   "source": [
    "重要的网站还得自己动手。"
   ]
  },
  {
   "cell_type": "markdown",
   "metadata": {},
   "source": [
    "来，三句话（三个问题）搞定一个强密码："
   ]
  },
  {
   "cell_type": "markdown",
   "metadata": {},
   "source": [
    "1. 你把这网站简称什么？（比如我把工商银行简称为ICBC）\n",
    "2. 你的基本密码是什么？（可以是你最喜欢的、总忍不住想到处用的那个密码）\n",
    "3. 你喜欢的数字是什么？（0~9的一个数字）"
   ]
  },
  {
   "cell_type": "markdown",
   "metadata": {},
   "source": [
    "好了，就像这样，三句话："
   ]
  },
  {
   "cell_type": "code",
   "execution_count": 131,
   "metadata": {},
   "outputs": [
    {
     "name": "stdout",
     "output_type": "stream",
     "text": [
      "请输入网站简称：CRA\n"
     ]
    }
   ],
   "source": [
    "name = input(\"请输入网站简称：\")\n",
    "secret = 我的基本密码 = \"XYab35#?\"\n",
    "favorite = 我喜欢的数字0_9 = 7"
   ]
  },
  {
   "cell_type": "markdown",
   "metadata": {},
   "source": [
    "这里把“网站简称”留给你运行时输入（如何运行请见附录），这样不改程序就能给多个网站设密码（记得要把“基本密码”和“喜欢的数字”改成你自己的哟）。"
   ]
  },
  {
   "cell_type": "markdown",
   "metadata": {},
   "source": [
    "然后，再用一些小伎俩，进行一些计算。还是三句话，给你吐出一个强密码来："
   ]
  },
  {
   "cell_type": "code",
   "execution_count": 132,
   "metadata": {},
   "outputs": [
    {
     "name": "stdout",
     "output_type": "stream",
     "text": [
      "Kr\"0z{pT1&dL!4Ef\n"
     ]
    }
   ],
   "source": [
    "num =  str(int(''.join([str(ord(ch)) for ch in name+secret])) ** (favorite+10))\n",
    "pwd = ''.join([chr(int(num[i:i+3])%94+33) for i in range(0, 36, 3)])\n",
    "print(pwd + ''.join([chr(j+int(num[j])) for j in [33, 48, 65, 97]]))"
   ]
  },
  {
   "cell_type": "markdown",
   "metadata": {},
   "source": [
    "我大致解释一下代码，不想学技术的不用看，只要复制-粘贴-运行（Copy-Paste-Run）就可以了。第一句话把网站简称和基本密码的所有字符的ASCII码串起来，再来个10几次方（放心，超级大的整数在Python里是小菜）。第二句话把第一句得到的超级大的数字，差不多就是个随机数了，三个一组共12组变换后还成12个字符。第三句话再加上符号、数字、大写、小写各一个，以确保满足一般网站强密码的要求，最后吐出这个16位的密码。"
   ]
  },
  {
   "cell_type": "markdown",
   "metadata": {},
   "source": [
    "所以，对于倒霉的CRA网站，我得到的新密码是：Kr\"0z{pT1&dL!4Ef。哈哈，独一无二的强密码，撞库这种事，不存在的。希望这个密码给我带来好运！"
   ]
  },
  {
   "cell_type": "markdown",
   "metadata": {},
   "source": [
    "那这么复杂的密码，怎么记？"
   ]
  },
  {
   "cell_type": "markdown",
   "metadata": {},
   "source": [
    "不用记！你可以每次需要时，运行一下程序，然后把结果复制-粘贴过来用。当然如果你嫌麻烦，交给你的Windows或者MacOS系统自动保存也没问题，但要保证你的电脑是安全的哦。手机上也如此，你可以保存密码，或是刷指纹刷脸自动填密码之类的。"
   ]
  },
  {
   "cell_type": "markdown",
   "metadata": {},
   "source": [
    "关键是，如果你的电脑/手机因为系统崩溃之类的原因把密码搞丢了，也没关系，只要你记得网站简称、基本密码、幸运数字这三件事，然后用本文的两段代码（记得关注和收藏哦，好在需要时快速找到本文），就可以恢复你的密码。对于网站简称，我建议你用个小本本单独记下来。但基本密码和幸运数字，记在心里就好了，只有那里最安全。"
   ]
  },
  {
   "cell_type": "markdown",
   "metadata": {},
   "source": [
    "好了，现在你做到了每个网站的密码都不同！还都是强密码！黑客们现在是撞库无门，只能舍你而去。但其实你只记住的只是一个基本密码，哈哈，真是瞒天过海啊。话说你现在就算什么都不带去了火星，买个新电脑上网，你都能随时恢复你的所有密码。"
   ]
  },
  {
   "cell_type": "markdown",
   "metadata": {},
   "source": [
    "学过Python的小伙伴，如果把算法那几句话再改一改，改得再复杂一点，简直可以宇宙无敌！（但改了什么自己要记得哈）"
   ]
  },
  {
   "cell_type": "markdown",
   "metadata": {},
   "source": [
    "最后我再好心啰嗦一句，有些网站每过一段时间就要你改一次密码 —— 纳尼？本来设密码就够头痛了，还要经常改，死的心都有了是不是？但有了咱们这个自力更生的方法，就很简单咯，你只需要把网站简称加上一个序号就可以了。比如微软的网站(msn.com)，本来你简称MSN，第一次叫你改，你就叫MSN1，第二次叫你改，你就叫MSN2，然后重新生成密码就可以了。记得在你的小本本上记一下改到第几次了哦。"
   ]
  },
  {
   "cell_type": "markdown",
   "metadata": {},
   "source": [
    "-----"
   ]
  },
  {
   "cell_type": "markdown",
   "metadata": {},
   "source": [
    "### 附录"
   ]
  },
  {
   "cell_type": "markdown",
   "metadata": {},
   "source": [
    "**说明：**"
   ]
  },
  {
   "cell_type": "markdown",
   "metadata": {},
   "source": [
    "1. 你可以复制-粘贴代码到任何Python平台运行，比如Jupyter Notebook、Pycharm、VS Code等等。如果你什么平台都没装，也可以直接到一些在线Python平台运行，比如：\n",
    "* https://www.programiz.com/python-programming/online-compiler/\n",
    "* https://colab.research.google.com/#create=true"
   ]
  },
  {
   "cell_type": "markdown",
   "metadata": {},
   "source": [
    "2. 请确保在私密环境和安全的电脑上操作，运行前记得把基本密码和幸运数字改成自己的，并在运行完后及时删除。"
   ]
  },
  {
   "cell_type": "markdown",
   "metadata": {},
   "source": [
    "3. 你的基本密码要保证为强密码，并且如果你怀疑你的基本密码因为任何原因有可能已经泄露了，请及时更改，并更新由本程序生成的所有密码。"
   ]
  },
  {
   "cell_type": "markdown",
   "metadata": {},
   "source": [
    "**完整代码：**"
   ]
  },
  {
   "cell_type": "code",
   "execution_count": 7,
   "metadata": {},
   "outputs": [
    {
     "name": "stdout",
     "output_type": "stream",
     "text": [
      "请输入网站简称：MSN\n",
      "PU'88_?mA9!#!2Ea\n"
     ]
    }
   ],
   "source": [
    "name = input(\"请输入网站简称：\")\n",
    "secret = 我的基本密码 = \"XYab35#?\"    # 记得改成自己的！\n",
    "favorite = 我喜欢的数字0_9 = 7        # 记得改成自己的！\n",
    "\n",
    "num =  str(int(''.join([str(ord(ch)) for ch in name+secret])) ** (favorite+10))\n",
    "pwd = ''.join([chr(int(num[i:i+3])%94+33) for i in range(0, 36, 3)])\n",
    "print(pwd + ''.join([chr(j+int(num[j])) for j in [33, 48, 65, 97]]))"
   ]
  }
 ],
 "metadata": {
  "kernelspec": {
   "display_name": "Python 3",
   "language": "python",
   "name": "python3"
  },
  "language_info": {
   "codemirror_mode": {
    "name": "ipython",
    "version": 3
   },
   "file_extension": ".py",
   "mimetype": "text/x-python",
   "name": "python",
   "nbconvert_exporter": "python",
   "pygments_lexer": "ipython3",
   "version": "3.8.2"
  }
 },
 "nbformat": 4,
 "nbformat_minor": 4
}
