{
 "cells": [
  {
   "cell_type": "markdown",
   "metadata": {},
   "source": [
    "## 把不均衡的随机数发生器转换为等概率随机数发生器"
   ]
  },
  {
   "cell_type": "markdown",
   "metadata": {},
   "source": [
    "### 我原来的代码：所谓所谓压缩法，不可行，原因是特定位数不均匀，且效率低"
   ]
  },
  {
   "cell_type": "code",
   "execution_count": 47,
   "metadata": {},
   "outputs": [
    {
     "name": "stdout",
     "output_type": "stream",
     "text": [
      "0.4981 0.3322 0.1697\n"
     ]
    }
   ],
   "source": [
    "import random\n",
    "\n",
    "def special_random_generator(counter=[0,0]):  \n",
    "    candidates = [0, 0, 0, 1, 1, 2]\n",
    "\n",
    "    while True:\n",
    "        dice = random.choice(candidates)\n",
    "        \n",
    "        if dice == 0:\n",
    "            counter[0] += 1\n",
    "            if counter[0] >= 3:\n",
    "                counter[0] = 0\n",
    "                return 0\n",
    "\n",
    "        elif dice == 1:\n",
    "            counter[1] += 1\n",
    "            if counter[1] >= 2:\n",
    "                counter[1] = 0\n",
    "                return 1\n",
    "        \n",
    "        else:\n",
    "            return 2\n",
    "\n",
    "\n",
    "num = 10000            # 测试次数\n",
    "# test = [special_random_generator() for i in range(num)]\n",
    "# print(test.count(0)/num, test.count(1)/num, test.count(2)/num)\n",
    "\n",
    "test = []\n",
    "for i in range(num):\n",
    "    # test = [special_random_generator() for i in range(10)]\n",
    "    test.append(special_random_generator()) \n",
    "print(test.count(0)/num, test.count(1)/num, test.count(2)/num)\n",
    "\n"
   ]
  },
  {
   "cell_type": "markdown",
   "metadata": {},
   "source": [
    "### 网友的代码：巧妙，但很难普适推广"
   ]
  },
  {
   "cell_type": "code",
   "execution_count": 52,
   "metadata": {},
   "outputs": [
    {
     "name": "stdout",
     "output_type": "stream",
     "text": [
      "0.3324 0.3369 0.3307\n"
     ]
    }
   ],
   "source": [
    "import random\n",
    "\n",
    "def special_random_generator():  \n",
    "    candidates = [0, 0, 0, 1, 1, 2]\n",
    "\n",
    "    while True:\n",
    "        dice = random.choice(candidates)\n",
    "        \n",
    "        if dice == 1:\n",
    "            return 1\n",
    "        \n",
    "        else:\n",
    "            dice = random.choice(candidates)\n",
    "            if dice == 0:\n",
    "                return 0\n",
    "            else:\n",
    "                return 2\n",
    "\n",
    "num = 10000            # 测试次数\n",
    "# test = [special_random_generator() for i in range(num)]\n",
    "# print(test.count(0)/num, test.count(1)/num, test.count(2)/num)\n",
    "\n",
    "test = []\n",
    "for i in range(num):\n",
    "    # test = [special_random_generator() for i in range(10)]\n",
    "    test.append(special_random_generator()) \n",
    "print(test.count(0)/num, test.count(1)/num, test.count(2)/num)"
   ]
  },
  {
   "cell_type": "markdown",
   "metadata": {},
   "source": [
    "### 我的新代码：先转换为0/1均匀分布，效率高而稳定，可普适"
   ]
  },
  {
   "cell_type": "code",
   "execution_count": 51,
   "metadata": {},
   "outputs": [
    {
     "name": "stdout",
     "output_type": "stream",
     "text": [
      "0.49955 0.50045\n"
     ]
    }
   ],
   "source": [
    "def original_random():\n",
    "    import random\n",
    "    candidates = [0, 0, 0, 1, 1, 2, 3, 5, 7]\n",
    "    return random.choice(candidates)\n",
    "\n",
    "def two_states_random(origin):\n",
    "    while True:\n",
    "        dice1 = origin()\n",
    "        dice2 = origin()\n",
    "        if dice1 < dice2:\n",
    "            return 0\n",
    "        elif dice1 > dice2:\n",
    "            return 1\n",
    "        else:\n",
    "            pass\n",
    "\n",
    "num = 100000            # 测试次数\n",
    "test = [two_states_random(original_random) for i in range(num)]\n",
    "print(test.count(0)/num, test.count(1)/num)\n",
    "\n"
   ]
  },
  {
   "cell_type": "code",
   "execution_count": null,
   "metadata": {},
   "outputs": [],
   "source": []
  },
  {
   "cell_type": "code",
   "execution_count": null,
   "metadata": {},
   "outputs": [],
   "source": []
  }
 ],
 "metadata": {
  "kernelspec": {
   "display_name": "Python 3",
   "language": "python",
   "name": "python3"
  },
  "language_info": {
   "codemirror_mode": {
    "name": "ipython",
    "version": 3
   },
   "file_extension": ".py",
   "mimetype": "text/x-python",
   "name": "python",
   "nbconvert_exporter": "python",
   "pygments_lexer": "ipython3",
   "version": "3.8.2"
  }
 },
 "nbformat": 4,
 "nbformat_minor": 4
}
