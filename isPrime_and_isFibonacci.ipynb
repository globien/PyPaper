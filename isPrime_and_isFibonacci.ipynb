{
 "cells": [
  {
   "cell_type": "markdown",
   "metadata": {},
   "source": [
    "## 判断一个数是否为素数的同时是斐波那契数"
   ]
  },
  {
   "cell_type": "code",
   "execution_count": 24,
   "metadata": {},
   "outputs": [],
   "source": [
    "def is_prime(n):\n",
    "    if n < 2 :\n",
    "        return False\n",
    "    if n == 2 :\n",
    "        return True\n",
    "    if n % 2 == 0:             # 偶数显然不是素数\n",
    "        return False\n",
    "    \n",
    "    div = 3                         # 从3开始，验证number有没有整除因子\n",
    "    while div * div <= n:      # 需验证的因子不需要超过目标数的平方根\n",
    "        if n % div == 0:\n",
    "            return False\n",
    "        else:\n",
    "            div += 2\n",
    "    return True"
   ]
  },
  {
   "cell_type": "code",
   "execution_count": 25,
   "metadata": {},
   "outputs": [],
   "source": [
    "def is_fibo(n):\n",
    "    if n < 0:\n",
    "        return False\n",
    "    \n",
    "    f0 = f1 = temp = 1\n",
    "    while temp < n:\n",
    "        temp = f0 + f1\n",
    "        f0 = f1\n",
    "        f1 = temp\n",
    "        \n",
    "    if temp == n:\n",
    "        return True\n",
    "    else:\n",
    "        return False"
   ]
  },
  {
   "cell_type": "code",
   "execution_count": 29,
   "metadata": {},
   "outputs": [
    {
     "name": "stdout",
     "output_type": "stream",
     "text": [
      "请输入一个整数：13\n",
      "True\n"
     ]
    }
   ],
   "source": [
    "num = int(input(\"请输入一个整数：\"))\n",
    "print( is_fibo(num) and is_prime(num) )"
   ]
  },
  {
   "cell_type": "code",
   "execution_count": null,
   "metadata": {},
   "outputs": [],
   "source": []
  }
 ],
 "metadata": {
  "kernelspec": {
   "display_name": "Python 3",
   "language": "python",
   "name": "python3"
  },
  "language_info": {
   "codemirror_mode": {
    "name": "ipython",
    "version": 3
   },
   "file_extension": ".py",
   "mimetype": "text/x-python",
   "name": "python",
   "nbconvert_exporter": "python",
   "pygments_lexer": "ipython3",
   "version": "3.8.2"
  }
 },
 "nbformat": 4,
 "nbformat_minor": 4
}
