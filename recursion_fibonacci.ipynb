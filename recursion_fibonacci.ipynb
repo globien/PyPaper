{
 "cells": [
  {
   "cell_type": "markdown",
   "metadata": {},
   "source": [
    "## 斐波那契数列递归算法的优化"
   ]
  },
  {
   "cell_type": "markdown",
   "metadata": {},
   "source": [
    "计算斐波那契数列的最后一个数fibo(n)。\n",
    "\n",
    "三种算法的比较：一般循环算法、一般递归算法、优化递归算法"
   ]
  },
  {
   "cell_type": "markdown",
   "metadata": {},
   "source": [
    "### 一般循环算法"
   ]
  },
  {
   "cell_type": "code",
   "execution_count": 171,
   "metadata": {},
   "outputs": [
    {
     "name": "stdout",
     "output_type": "stream",
     "text": [
      "70330367711422815821835254877183549770181269836358732742604905087154537118196933579742249494562611733487750449241765991088186363265450223647106012053374121273867339111198139373125598767690091902245245323403501\n",
      "0.2099308967590332\n"
     ]
    }
   ],
   "source": [
    "import time\n",
    "\n",
    "n = 1000          \n",
    "trial = 1000   \n",
    "\n",
    "def fibo(n):\n",
    "    if n == 0 or n == 1:\n",
    "        return 1\n",
    "    else:\n",
    "        f0 = 1\n",
    "        f1 = 1\n",
    "        for j in range(2, n+1):\n",
    "            f = f0 + f1\n",
    "            f0 = f1\n",
    "            f1 = f\n",
    "        return f\n",
    "    \n",
    "start = time.time()\n",
    "for i in range(trial):\n",
    "    result = fibo(n)\n",
    "print(result)\n",
    "\n",
    "end = time.time()\n",
    "print(end-start)"
   ]
  },
  {
   "cell_type": "markdown",
   "metadata": {},
   "source": [
    "### 一般递归算法"
   ]
  },
  {
   "cell_type": "code",
   "execution_count": 157,
   "metadata": {},
   "outputs": [
    {
     "name": "stdout",
     "output_type": "stream",
     "text": [
      "10946\n",
      "6.6600117683410645\n"
     ]
    }
   ],
   "source": [
    "import time\n",
    "\n",
    "n = 20          \n",
    "trial = 1000   \n",
    "\n",
    "def fibo(n):\n",
    "    if n == 0 or n == 1:\n",
    "        return 1\n",
    "    else:\n",
    "        return fibo(n-1) + fibo(n-2)\n",
    "\n",
    "start = time.time()    \n",
    "for i in range(trial):\n",
    "    result = fibo(n)\n",
    "print(result)\n",
    "\n",
    "end = time.time()\n",
    "print(end-start)"
   ]
  },
  {
   "cell_type": "markdown",
   "metadata": {},
   "source": [
    "### 优化递归算法"
   ]
  },
  {
   "cell_type": "code",
   "execution_count": 179,
   "metadata": {},
   "outputs": [
    {
     "name": "stdout",
     "output_type": "stream",
     "text": [
      "70330367711422815821835254877183549770181269836358732742604905087154537118196933579742249494562611733487750449241765991088186363265450223647106012053374121273867339111198139373125598767690091902245245323403501\n",
      "0.7737808227539062\n"
     ]
    }
   ],
   "source": [
    "import time\n",
    "\n",
    "n = 1000      \n",
    "trial = 1000   \n",
    "\n",
    "def fibo(n):\n",
    "    if n == 0 or n == 1:\n",
    "        return 1, 1\n",
    "    else:\n",
    "        prev, prev2 = fibo(n-1)\n",
    "        return prev+prev2, prev\n",
    "\n",
    "start = time.time()    \n",
    "for i in range(trial):\n",
    "    result, _ = fibo(n)\n",
    "print(result)\n",
    "\n",
    "end = time.time()\n",
    "print(end-start)"
   ]
  },
  {
   "cell_type": "code",
   "execution_count": null,
   "metadata": {},
   "outputs": [],
   "source": []
  }
 ],
 "metadata": {
  "kernelspec": {
   "display_name": "Python 3",
   "language": "python",
   "name": "python3"
  },
  "language_info": {
   "codemirror_mode": {
    "name": "ipython",
    "version": 3
   },
   "file_extension": ".py",
   "mimetype": "text/x-python",
   "name": "python",
   "nbconvert_exporter": "python",
   "pygments_lexer": "ipython3",
   "version": "3.8.2"
  }
 },
 "nbformat": 4,
 "nbformat_minor": 4
}
