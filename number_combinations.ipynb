{
 "cells": [
  {
   "cell_type": "markdown",
   "metadata": {},
   "source": [
    "## 组合数\n",
    "\n",
    "打印出从m个数里拿出n个数的所有组合。\n",
    "\n",
    "（请不要使用太大的数字，可能会卡死）"
   ]
  },
  {
   "cell_type": "code",
   "execution_count": 3,
   "metadata": {},
   "outputs": [
    {
     "name": "stdout",
     "output_type": "stream",
     "text": [
      "[(1, 2, 3, 4, 5), (1, 2, 3, 4, 6), (1, 2, 3, 4, 7), (1, 2, 3, 4, 8), (1, 2, 3, 5, 6), (1, 2, 3, 5, 7), (1, 2, 3, 5, 8), (1, 2, 3, 6, 7), (1, 2, 3, 6, 8), (1, 2, 3, 7, 8), (1, 2, 4, 5, 6), (1, 2, 4, 5, 7), (1, 2, 4, 5, 8), (1, 2, 4, 6, 7), (1, 2, 4, 6, 8), (1, 2, 4, 7, 8), (1, 2, 5, 6, 7), (1, 2, 5, 6, 8), (1, 2, 5, 7, 8), (1, 2, 6, 7, 8), (1, 3, 4, 5, 6), (1, 3, 4, 5, 7), (1, 3, 4, 5, 8), (1, 3, 4, 6, 7), (1, 3, 4, 6, 8), (1, 3, 4, 7, 8), (1, 3, 5, 6, 7), (1, 3, 5, 6, 8), (1, 3, 5, 7, 8), (1, 3, 6, 7, 8), (1, 4, 5, 6, 7), (1, 4, 5, 6, 8), (1, 4, 5, 7, 8), (1, 4, 6, 7, 8), (1, 5, 6, 7, 8), (2, 3, 4, 5, 6), (2, 3, 4, 5, 7), (2, 3, 4, 5, 8), (2, 3, 4, 6, 7), (2, 3, 4, 6, 8), (2, 3, 4, 7, 8), (2, 3, 5, 6, 7), (2, 3, 5, 6, 8), (2, 3, 5, 7, 8), (2, 3, 6, 7, 8), (2, 4, 5, 6, 7), (2, 4, 5, 6, 8), (2, 4, 5, 7, 8), (2, 4, 6, 7, 8), (2, 5, 6, 7, 8), (3, 4, 5, 6, 7), (3, 4, 5, 6, 8), (3, 4, 5, 7, 8), (3, 4, 6, 7, 8), (3, 5, 6, 7, 8), (4, 5, 6, 7, 8)]\n"
     ]
    }
   ],
   "source": [
    "from itertools import combinations\n",
    "m, n = 8, 5\n",
    "print(list(combinations(range(1, m+1), n)))"
   ]
  },
  {
   "cell_type": "code",
   "execution_count": null,
   "metadata": {},
   "outputs": [],
   "source": []
  }
 ],
 "metadata": {
  "kernelspec": {
   "display_name": "Python 3",
   "language": "python",
   "name": "python3"
  },
  "language_info": {
   "codemirror_mode": {
    "name": "ipython",
    "version": 3
   },
   "file_extension": ".py",
   "mimetype": "text/x-python",
   "name": "python",
   "nbconvert_exporter": "python",
   "pygments_lexer": "ipython3",
   "version": "3.8.2"
  }
 },
 "nbformat": 4,
 "nbformat_minor": 4
}
