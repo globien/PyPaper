{
 "cells": [
  {
   "cell_type": "code",
   "execution_count": null,
   "metadata": {},
   "outputs": [],
   "source": [
    "name = input(\"请输入网站简称：\")\n",
    "secret = 我的基本密码 = \"XYab35#?\"    # 记得改成自己的！\n",
    "favorite = 我喜欢的数字0_9 = 7        # 记得改成自己的！\n",
    "\n",
    "num =  str(int(''.join([str(ord(ch)) for ch in name+secret])) ** (favorite+10))\n",
    "pwd = ''.join([chr(int(num[i:i+3])%94+33) for i in range(0, 36, 3)])\n",
    "print(pwd + ''.join([chr(j+int(num[j])) for j in [33, 48, 65, 97]]))"
   ]
  }
 ],
 "metadata": {
  "kernelspec": {
   "display_name": "Python 3",
   "language": "python",
   "name": "python3"
  },
  "language_info": {
   "codemirror_mode": {
    "name": "ipython",
    "version": 3
   },
   "file_extension": ".py",
   "mimetype": "text/x-python",
   "name": "python",
   "nbconvert_exporter": "python",
   "pygments_lexer": "ipython3",
   "version": "3.8.2"
  }
 },
 "nbformat": 4,
 "nbformat_minor": 4
}
