{
 "cells": [
  {
   "cell_type": "markdown",
   "metadata": {},
   "source": [
    "## 自己动手，为每个网站产生不同的强密码"
   ]
  },
  {
   "cell_type": "markdown",
   "metadata": {},
   "source": [
    "注意：\n",
    "\n",
    "* 请确保在私密环境和安全的电脑上操作，运行前记得把基本密码和幸运数字改成自己的，并在运行完后及时删除。\n",
    "* 你的基本密码要保证为强密码，并且如果你怀疑你的基本密码因为任何原因有可能已经泄露了，请及时更改，并更新由本程序生成的所有密码。"
   ]
  },
  {
   "cell_type": "markdown",
   "metadata": {},
   "source": [
    "用法：先点击选中下面的单元，然后点击上面工具栏中的⏯Run按钮即可运行。"
   ]
  },
  {
   "cell_type": "code",
   "execution_count": 3,
   "metadata": {},
   "outputs": [
    {
     "name": "stdout",
     "output_type": "stream",
     "text": [
      "请输入网站简称：MSN\n",
      "PU'88_?mA9!#!2Ea\n"
     ]
    }
   ],
   "source": [
    "name = input(\"请输入网站简称：\")\n",
    "secret = 我的基本密码 = \"XYab35#?\"    # 记得改成自己的！\n",
    "favorite = 我喜欢的数字0_9 = 7        # 记得改成自己的！\n",
    "\n",
    "num =  str(int(''.join([str(ord(ch)) for ch in name+secret])) ** (favorite+10))\n",
    "pwd = ''.join([chr(int(num[i:i+3])%94+33) for i in range(0, 36, 3)])\n",
    "print(pwd + ''.join([chr(j+int(num[j])) for j in [33, 48, 65, 97]]))"
   ]
  }
 ],
 "metadata": {
  "kernelspec": {
   "display_name": "Python 3",
   "language": "python",
   "name": "python3"
  },
  "language_info": {
   "codemirror_mode": {
    "name": "ipython",
    "version": 3
   },
   "file_extension": ".py",
   "mimetype": "text/x-python",
   "name": "python",
   "nbconvert_exporter": "python",
   "pygments_lexer": "ipython3",
   "version": "3.8.2"
  }
 },
 "nbformat": 4,
 "nbformat_minor": 4
}
